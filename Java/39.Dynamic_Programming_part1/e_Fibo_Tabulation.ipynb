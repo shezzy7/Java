{
 "cells": [
  {
   "cell_type": "markdown",
   "id": "ad0526d5",
   "metadata": {},
   "source": [
    "Lets write some code for calculation fibbonacci with the help of tabulation."
   ]
  },
  {
   "cell_type": "code",
   "execution_count": null,
   "id": "24fe84d9",
   "metadata": {},
   "outputs": [
    {
     "ename": "",
     "evalue": "",
     "output_type": "error",
     "traceback": [
      "\u001b[1;31mThe kernel failed to start due to the missing module 'pure_eval'. Consider installing this module.\n",
      "\u001b[1;31mClick <a href='https://aka.ms/kernelFailuresMissingModule'>here</a> for more info."
     ]
    }
   ],
   "source": [
    "n=6\n",
    "dp = [0]*(n+1)\n",
    "dp[1]=1\n",
    "\n",
    "for i in range(2,n+1):\n",
    "    dp[i] = dp[i-1]+dp[i-2]\n",
    "print(dp[n])"
   ]
  },
  {
   "cell_type": "code",
   "execution_count": null,
   "id": "485c74d8",
   "metadata": {},
   "outputs": [],
   "source": []
  }
 ],
 "metadata": {
  "kernelspec": {
   "display_name": "venv",
   "language": "python",
   "name": "python3"
  },
  "language_info": {
   "name": "python",
   "version": "3.12.4"
  }
 },
 "nbformat": 4,
 "nbformat_minor": 5
}
