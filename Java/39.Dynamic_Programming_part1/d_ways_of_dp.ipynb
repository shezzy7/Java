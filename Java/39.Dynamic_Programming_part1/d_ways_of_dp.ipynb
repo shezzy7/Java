{
 "cells": [
  {
   "cell_type": "markdown",
   "id": "21f7b03d",
   "metadata": {},
   "source": [
    "**Ways of DP**\n",
    "\n",
    "There are two ways of solving problems using concept of dynamic programming.\n",
    "\n",
    "One is ***Memoization***(Also known as Top Down)\n",
    "\n",
    "Other one is ***Tabulation***(Also known as Bottom UP)\n",
    "\n",
    "**Memoization**\n",
    "\n",
    "In this process we store answers of given problem somewhere in memory and reuse it again when needed instead of calculating it again.We use this approach in recursion. We can see this in above 3 files.\n",
    "\n",
    "\n",
    "**Tabulation**\n",
    "\n",
    "We use this technique while soving our problem with the help of iteration instead of recursion.\n",
    "This method is more efficient as compared to memoization as in memoization sometime our call stack overflows and our code stops. But in tabulation this problem never comes. \n",
    "In most of the problems we use memoization as tabulation is complex to implement as compared to memoization.\n",
    "\n"
   ]
  }
 ],
 "metadata": {
  "language_info": {
   "name": "python"
  }
 },
 "nbformat": 4,
 "nbformat_minor": 5
}
