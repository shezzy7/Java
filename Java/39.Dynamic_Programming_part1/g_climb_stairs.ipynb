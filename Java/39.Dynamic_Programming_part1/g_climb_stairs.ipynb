{
 "cells": [
  {
   "cell_type": "markdown",
   "id": "a6ed791c",
   "metadata": {},
   "source": [
    "**Climb Stairs**\n",
    "\n",
    "We are given n number of stairs. Count ways to reach nth stair. At one time we can climb 1 or 2 stairs.\n",
    "\n",
    "For example if we have 2 stairs. And we are at ground then we can reach to nth step in two ways. One way should be such that we take one step and reach to 1st stair. Then take another single step and reach to 2nd stair. So this is one way to reach nth stair. Another method is that we jump to 2nd stair in single step by moving 2 stairs at a time.\n",
    "\n",
    "We can solve this problem with three approachs.\n",
    "-Simple Recursion\n",
    "-Memoization\n",
    "-Tabulation"
   ]
  },
  {
   "cell_type": "markdown",
   "id": "e04ac21f",
   "metadata": {},
   "source": [
    "**Recusrion** O(2^n)"
   ]
  },
  {
   "cell_type": "code",
   "execution_count": null,
   "id": "e6dc0078",
   "metadata": {},
   "outputs": [],
   "source": [
    "def countWays1(n):\n",
    "    if n<=0:\n",
    "        return 0\n",
    "    if n==1:\n",
    "        return 1\n",
    "    \n",
    "    return countWays1(n-1) + countWays1(n-2)\n",
    "n=4\n",
    "ways = countWays1(n)\n",
    "print(ways)\n",
    "\n",
    "# This problem is a variant of Fibonacci"
   ]
  },
  {
   "cell_type": "markdown",
   "id": "ae6f2207",
   "metadata": {},
   "source": [
    "**Memoization**  O(n)"
   ]
  },
  {
   "cell_type": "code",
   "execution_count": null,
   "id": "b1bdaa3d",
   "metadata": {},
   "outputs": [],
   "source": [
    "# here we are going to solve this by using concept of memoization\n",
    "dp1 = [-1]*(n+1)\n",
    "\n",
    "def countWays2(n , dp1):\n",
    "    if n<=1:\n",
    "        return 1\n",
    "    \n",
    "    if dp1[n]!=-1:\n",
    "        return dp1[n]\n",
    "    dp1[n] = countWays1(n-1 , dp1)+countWays2(n-2 , dp1)\n",
    "    return dp1[n]\n",
    "\n",
    "ways = countWays2(n , dp1)\n",
    "print(ways)\n",
    "    \n",
    "    \n",
    "\n",
    "\n",
    "    "
   ]
  },
  {
   "cell_type": "markdown",
   "id": "ba4d3d25",
   "metadata": {},
   "source": [
    "**Tabulation**"
   ]
  },
  {
   "cell_type": "code",
   "execution_count": null,
   "id": "81f12c95",
   "metadata": {},
   "outputs": [],
   "source": []
  }
 ],
 "metadata": {
  "kernelspec": {
   "display_name": "venv",
   "language": "python",
   "name": "python3"
  },
  "language_info": {
   "name": "python",
   "version": "3.12.4"
  }
 },
 "nbformat": 4,
 "nbformat_minor": 5
}
