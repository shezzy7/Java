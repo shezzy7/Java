{
 "cells": [
  {
   "cell_type": "markdown",
   "id": "a6ed791c",
   "metadata": {},
   "source": [
    "**Climb Stairs**\n",
    "\n",
    "We are given n number of stairs. Count ways to reach nth stair. At one time we can climb 1 or 2 stairs.\n",
    "\n",
    "For example if we have 2 stairs. And we are at ground then we can reach to nth step in two ways. One way should be such that we take one step and reach to 1st stair. Then take another single step and reach to 2nd stair. So this is one way to reach nth stair. Another method is that we jump to 2nd stair in single step by moving 2 stairs at a time.\n",
    "\n",
    "We can solve this problem with three approachs.\n",
    "-Simple Recursion\n",
    "-Memoization\n",
    "-Tabulation"
   ]
  },
  {
   "cell_type": "markdown",
   "id": "e04ac21f",
   "metadata": {},
   "source": [
    "**Recusrion** O(2^n)"
   ]
  },
  {
   "cell_type": "code",
   "execution_count": null,
   "id": "e6dc0078",
   "metadata": {},
   "outputs": [],
   "source": [
    "def countWays1(n):\n",
    "    if n<=1:\n",
    "        return 1\n",
    "    \n",
    "    return countWays1(n-1) + countWays1(n-2)\n",
    "n=4\n",
    "ways = countWays1(n)\n",
    "print(ways)\n",
    "\n",
    "# This problem is a variant of Fibonacci"
   ]
  },
  {
   "cell_type": "markdown",
   "id": "ae6f2207",
   "metadata": {},
   "source": [
    "**Memoization**  O(n)"
   ]
  },
  {
   "cell_type": "code",
   "execution_count": null,
   "id": "b1bdaa3d",
   "metadata": {},
   "outputs": [],
   "source": [
    "# here we are going to solve this by using concept of memoization\n",
    "dp1 = [-1]*(n+1)\n",
    "\n",
    "def countWays2(n , dp1):\n",
    "    if n<=1:\n",
    "        return 1\n",
    "    \n",
    "    if dp1[n]!=-1:\n",
    "        return dp1[n]\n",
    "    dp1[n] = countWays1(n-1 , dp1)+countWays2(n-2 , dp1)\n",
    "    return dp1[n]\n",
    "\n",
    "ways = countWays2(n , dp1)\n",
    "print(ways)"
   ]
  },
  {
   "cell_type": "markdown",
   "id": "ba4d3d25",
   "metadata": {},
   "source": [
    "**🚀 Tabulation (Bottom-Up Dynamic Programming)** O(n)\n",
    "\n",
    "In tabulation, we build a table (array) to store the results of subproblems.\n",
    "\n",
    "<ul>\n",
    "   <li>\n",
    "   Just like memoization, we use an array.\n",
    "   </li>\n",
    "   <li>\n",
    "   Difference: Instead of filling the array recursively and on-demand, we fill it iteratively from the base cases up to n.\n",
    "   </li>\n",
    "   <li>\n",
    "   \n",
    "This way, when we need the final answer, it’s already calculated.\n",
    "   </li>\n",
    "\n",
    "</ul>\n",
    "Example: Climbing Stairs Problem\n",
    "\n",
    "We want to find the number of ways to reach the nth stair.\n",
    "<ul>\n",
    "   <li>If n = 0 or n = 1, there is only 1 way.\n",
    "   </li>\n",
    "   <li>\n",
    "   \n",
    "\n",
    "For other values, we use the relation:\n",
    "dp[i] = dp[i-1]+dp[i-1]\n",
    "</li>\n",
    "\n",
    "\n",
    "</ul>\n",
    "\n",
    "\n",
    "\n",
    "\n",
    "\n",
    "(Same as Fibonacci sequence).\n",
    "03008446027"
   ]
  },
  {
   "cell_type": "code",
   "execution_count": null,
   "id": "81f12c95",
   "metadata": {},
   "outputs": [],
   "source": [
    "n = 5\n",
    "def countWays3(n):\n",
    "    if n<=1:\n",
    "        return 1\n",
    "    dp2 = [1,1]\n",
    "    for i in range(2 , n+1):\n",
    "        dp2.append(dp2[i-1]+dp2[i-2])\n",
    "        \n",
    "    return dp2[n]\n",
    "ways = countWays3(n)\n",
    "print(ways)\n",
    "    "
   ]
  }
 ],
 "metadata": {
  "kernelspec": {
   "display_name": "venv",
   "language": "python",
   "name": "python3"
  },
  "language_info": {
   "name": "python",
   "version": "3.12.4"
  }
 },
 "nbformat": 4,
 "nbformat_minor": 5
}
