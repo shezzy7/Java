{
 "cells": [
  {
   "cell_type": "markdown",
   "id": "6a738d0b",
   "metadata": {},
   "source": [
    "**Dynamic Programming**\n",
    "\n",
    "DP is a technique in computer programming that helps to efficiently solve a class of sub problems that have overlapping subproblems and optimal substructure property.\n",
    "It is a optimized recursion.\n",
    "\n",
    "**How to identify whether a problem is a Dynamic Programming problem or not?**\n",
    "\n",
    "If a problem contains these two properties then its a DP problem\n",
    "\n",
    "a-Optimal Problem(we are asked to find least,most , min , max,largest,smallest) (we can also use Greedy Approach for such kind of problem , but when comes second condition(b here) also then we use it by dp)\n",
    "\n",
    "b-some choice is given (multiple braches in recursion tree)\n"
   ]
  }
 ],
 "metadata": {
  "language_info": {
   "name": "python"
  }
 },
 "nbformat": 4,
 "nbformat_minor": 5
}
